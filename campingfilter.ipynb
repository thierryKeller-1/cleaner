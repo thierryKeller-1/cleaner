{
 "cells": [
  {
   "cell_type": "code",
   "execution_count": 1,
   "metadata": {},
   "outputs": [],
   "source": [
    "import pandas as pd \n",
    "import os\n",
    "import csv\n",
    "from datetime import datetime, timedelta\n",
    "import openpyxl"
   ]
  },
  {
   "cell_type": "code",
   "execution_count": 2,
   "metadata": {},
   "outputs": [
    {
     "name": "stdout",
     "output_type": "stream",
     "text": [
      "camping_par1.csv\n",
      "camping_par2.csv\n",
      "camping_par3.csv\n",
      "camping_par4.csv\n",
      "camping_par5.csv\n",
      "camping_par6.csv\n"
     ]
    },
    {
     "data": {
      "text/plain": [
       "6"
      ]
     },
     "execution_count": 2,
     "metadata": {},
     "output_type": "execute_result"
    }
   ],
   "source": [
    "all_files = os.listdir()    \n",
    "csv_files = list(filter(lambda f: f.endswith('.csv'), all_files))\n",
    "dfs = []\n",
    "\n",
    "for csv_file in csv_files:\n",
    "    print(csv_file)\n",
    "    dfs.append(pd.read_csv(csv_file))\n",
    "\n",
    "len(dfs)"
   ]
  },
  {
   "cell_type": "code",
   "execution_count": 3,
   "metadata": {},
   "outputs": [],
   "source": [
    "df = pd.concat(dfs)"
   ]
  },
  {
   "cell_type": "code",
   "execution_count": 4,
   "metadata": {},
   "outputs": [
    {
     "data": {
      "text/plain": [
       "145613"
      ]
     },
     "execution_count": 4,
     "metadata": {},
     "output_type": "execute_result"
    }
   ],
   "source": [
    "len(df)"
   ]
  },
  {
   "cell_type": "code",
   "execution_count": 5,
   "metadata": {},
   "outputs": [],
   "source": [
    "df.drop(columns=['url'], inplace=True)"
   ]
  },
  {
   "cell_type": "code",
   "execution_count": 6,
   "metadata": {},
   "outputs": [],
   "source": [
    "dates = pd.bdate_range(start='22-04-2024', end='30-10-2024', freq='C', weekmask='Sat Sun').strftime('%d/%m/%Y').to_list()"
   ]
  },
  {
   "cell_type": "code",
   "execution_count": 7,
   "metadata": {},
   "outputs": [
    {
     "data": {
      "text/plain": [
       "['27/04/2024',\n",
       " '28/04/2024',\n",
       " '04/05/2024',\n",
       " '05/05/2024',\n",
       " '11/05/2024',\n",
       " '12/05/2024',\n",
       " '18/05/2024',\n",
       " '19/05/2024',\n",
       " '25/05/2024',\n",
       " '26/05/2024',\n",
       " '01/06/2024',\n",
       " '02/06/2024',\n",
       " '08/06/2024',\n",
       " '09/06/2024',\n",
       " '15/06/2024',\n",
       " '16/06/2024',\n",
       " '22/06/2024',\n",
       " '23/06/2024',\n",
       " '29/06/2024',\n",
       " '30/06/2024',\n",
       " '06/07/2024',\n",
       " '07/07/2024',\n",
       " '13/07/2024',\n",
       " '14/07/2024',\n",
       " '20/07/2024',\n",
       " '21/07/2024',\n",
       " '27/07/2024',\n",
       " '28/07/2024',\n",
       " '03/08/2024',\n",
       " '04/08/2024',\n",
       " '10/08/2024',\n",
       " '11/08/2024',\n",
       " '17/08/2024',\n",
       " '18/08/2024',\n",
       " '24/08/2024',\n",
       " '25/08/2024',\n",
       " '31/08/2024',\n",
       " '01/09/2024',\n",
       " '07/09/2024',\n",
       " '08/09/2024',\n",
       " '14/09/2024',\n",
       " '15/09/2024',\n",
       " '21/09/2024',\n",
       " '22/09/2024',\n",
       " '28/09/2024',\n",
       " '29/09/2024',\n",
       " '05/10/2024',\n",
       " '06/10/2024',\n",
       " '12/10/2024',\n",
       " '13/10/2024',\n",
       " '19/10/2024',\n",
       " '20/10/2024',\n",
       " '26/10/2024',\n",
       " '27/10/2024']"
      ]
     },
     "execution_count": 7,
     "metadata": {},
     "output_type": "execute_result"
    }
   ],
   "source": [
    "dates"
   ]
  },
  {
   "cell_type": "code",
   "execution_count": 8,
   "metadata": {},
   "outputs": [
    {
     "data": {
      "text/plain": [
       "145613"
      ]
     },
     "execution_count": 8,
     "metadata": {},
     "output_type": "execute_result"
    }
   ],
   "source": [
    "len(df[df['date_debut'].isin(dates)])"
   ]
  },
  {
   "cell_type": "code",
   "execution_count": 9,
   "metadata": {},
   "outputs": [],
   "source": [
    "df = df[df['date_debut'].isin(dates)]"
   ]
  },
  {
   "cell_type": "code",
   "execution_count": 52,
   "metadata": {},
   "outputs": [],
   "source": [
    "# df['date_price'] = \"/03/2024\""
   ]
  },
  {
   "cell_type": "code",
   "execution_count": 15,
   "metadata": {},
   "outputs": [],
   "source": []
  },
  {
   "cell_type": "code",
   "execution_count": 11,
   "metadata": {},
   "outputs": [
    {
     "data": {
      "text/plain": [
       "805.0"
      ]
     },
     "execution_count": 11,
     "metadata": {},
     "output_type": "execute_result"
    }
   ],
   "source": [
    "df.iloc[3370]['prix_init']"
   ]
  },
  {
   "cell_type": "code",
   "execution_count": 10,
   "metadata": {},
   "outputs": [],
   "source": [
    "df['prix_init'] = df['prix_init'].apply(lambda x: str(x).replace('\\u202f', ''))\n",
    "df['prix_actuel'] = df['prix_actuel'].apply(lambda x: str(x).replace('\\u202f', ''))"
   ]
  },
  {
   "cell_type": "code",
   "execution_count": null,
   "metadata": {},
   "outputs": [],
   "source": []
  },
  {
   "cell_type": "code",
   "execution_count": 11,
   "metadata": {},
   "outputs": [
    {
     "data": {
      "text/plain": [
       "Index(['web-scrapper-order', 'date_price', 'date_debut', 'date_fin',\n",
       "       'prix_init', 'prix_actuel', 'typologie', 'n_offre', 'nom',\n",
       "       'Nb personnes', 'localite', 'date_debut-jour', 'Nb semaines',\n",
       "       'cle_station', 'nom_station'],\n",
       "      dtype='object')"
      ]
     },
     "execution_count": 11,
     "metadata": {},
     "output_type": "execute_result"
    }
   ],
   "source": [
    "df.columns"
   ]
  },
  {
   "cell_type": "code",
   "execution_count": 12,
   "metadata": {},
   "outputs": [],
   "source": [
    "df.to_csv(\"camping_alls.csv\", index=False)"
   ]
  },
  {
   "cell_type": "code",
   "execution_count": 42,
   "metadata": {},
   "outputs": [],
   "source": [
    "items = []\n",
    "for x in range(len(df)):\n",
    "    items.append(df.iloc[x].to_dict())\n",
    "clean_items = []"
   ]
  },
  {
   "cell_type": "code",
   "execution_count": 5,
   "metadata": {},
   "outputs": [],
   "source": [
    "for res in items:\n",
    "    if (res['prix_init'] == \"\") or (res['prix_init'] != res['prix_init']):\n",
    "        continue\n",
    "    if (res['prix_actuel'] == \"\") or (res['prix_actuel'] != res['prix_actuel']):\n",
    "        continue\n",
    "    if res['nom'] != res['nom'] or res['nom'] == \"\":\n",
    "        continue\n",
    "    if res['Nb personnes'] != res['Nb personnes'] or res['Nb personnes'] == \"\":\n",
    "        continue\n",
    "    if res['localite'] != res['localite'] or res['localite'] == \"\":\n",
    "        continue\n",
    "    clean_items.append(res)"
   ]
  },
  {
   "cell_type": "code",
   "execution_count": 6,
   "metadata": {},
   "outputs": [],
   "source": [
    "df_new = pd.DataFrame(clean_items)\n",
    "df_new.to_csv(\"camping_all.csv\", index=False)"
   ]
  },
  {
   "cell_type": "code",
   "execution_count": 13,
   "metadata": {},
   "outputs": [],
   "source": [
    "def clean_campings(src, dest):\n",
    "    def clean_line(line, references):\n",
    "        for key in line.keys():\n",
    "            if str(line[key]) == 'nan':\n",
    "                line[key] = ''\n",
    "\n",
    "            line['localite'] = line['localite'].split(',')[0].strip()\n",
    "            if line['localite'] in references.keys() and type(references[line['localite']]['station']) == str:\n",
    "                line['nom_station'] = references[line['localite']]['station']\n",
    "\n",
    "            if type(line['nom_station']) != str:\n",
    "                line['nom_station'] = \"\"\n",
    "\n",
    "            line['web-scrapper-order'] = \"\"\n",
    "            line['n_offre'] = \"\"\n",
    "            line['date_debut-jour'] = \"\"\n",
    "            line['localite'] = line['localite'].replace(', ', ' ') if not line['localite'].split(' ')[0].isdigit() else ' '.join(line['localite'].split(' ')[1:]).replace(', ', ' ')\n",
    "            line['typologie'] = line['typologie'].replace(', ', ' - ')\n",
    "            line['prix_init'] = str(int(float(line['prix_init']))) if line['prix_init'] != 'prix_init' else 'prix_init'\n",
    "            line['prix_actuel'] = str(int(float(line['prix_actuel']))) if line['prix_actuel'] != 'prix_actuel' else 'prix_actuel'\n",
    "\n",
    "        return line\n",
    "    \n",
    "\n",
    "\n",
    "    csv_source = pd.read_csv(src, encoding='utf-8')\n",
    "    csv_source.dropna(subset=['Nb personnes'], inplace=True)\n",
    "    csv_source = csv_source[csv_source['Nb personnes'].isin(['4 Adultes','6 Adultes', '8 Adultes'])]\n",
    "    csv_source.drop_duplicates(inplace=True, subset=['date_price', 'date_debut', 'date_fin', 'prix_init', 'prix_actuel', 'typologie', 'nom', 'localite'])\n",
    "    csv_source.sort_values(inplace=True, ascending = True, by=['Nb semaines', 'date_debut'])\n",
    "    df_todrop = list(csv_source[csv_source['nom'].isna()].index)\n",
    "    csv_source.drop(index=df_todrop, inplace=True)\n",
    "    df_todrop_ty = list(csv_source[csv_source['localite'].isna()].index)\n",
    "    csv_source.drop(index=df_todrop_ty, inplace=True)\n",
    "    df_todrop_tz = list(csv_source[csv_source['Nb personnes'].isna()].index)\n",
    "    print(len(df_todrop))\n",
    "    csv_source.drop(index=df_todrop_tz, inplace=True)\n",
    "    csv_dict = csv_source.to_dict(orient='records')\n",
    "\n",
    "    new_dict = []\n",
    "\n",
    "    all_references_list = pd.read_excel('referencement stations.xlsm', sheet_name='Feuil1').to_dict(orient='records')\n",
    "\n",
    "    all_references_dict = {}\n",
    "    for ref in all_references_list:\n",
    "        if ref['Localite'] not in all_references_dict.keys():\n",
    "            all_references_dict[ref['Localite'].split(',')[0]] = {'station': ref['Station'], 'dest': ref['Cle station']}\n",
    "\n",
    "    for line in csv_dict:\n",
    "        cleaned_line = clean_line(line, all_references_dict)\n",
    "        new_dict.append(cleaned_line)\n",
    "\n",
    "    with open(dest, 'w', newline='', encoding='utf-8') as csvfile:\n",
    "        fieldnames = ['web-scrapper-order', 'date_price', 'date_debut', 'date_fin', 'prix_init', 'prix_actuel', 'typologie', 'Nb personnes','n_offre', 'nom', 'localite', 'date_debut-jour','Nb semaines', 'cle_station', 'nom_station']\n",
    "        writer = csv.DictWriter(csvfile, fieldnames=fieldnames)\n",
    "        writer.writeheader()\n",
    "\n",
    "        for line in new_dict:\n",
    "            try:\n",
    "                writer.writerow(line)\n",
    "            except Exception as e:\n",
    "                print(e)\n",
    "                pass"
   ]
  },
  {
   "cell_type": "code",
   "execution_count": 15,
   "metadata": {},
   "outputs": [
    {
     "name": "stdout",
     "output_type": "stream",
     "text": [
      "1324\n"
     ]
    }
   ],
   "source": [
    "# here x should be replaced with de date of monday of the week scrap\n",
    "clean_campings('./camping_alls.csv', 'camping_cleaned_29_04_2024.csv')"
   ]
  },
  {
   "cell_type": "code",
   "execution_count": 12,
   "metadata": {},
   "outputs": [],
   "source": [
    "df = pd.read_csv('./camping_cleaned_12_02_2024.csv', low_memory=False)"
   ]
  },
  {
   "cell_type": "code",
   "execution_count": 13,
   "metadata": {},
   "outputs": [],
   "source": [
    "nom = df[df['nom'].isna()].index"
   ]
  },
  {
   "cell_type": "code",
   "execution_count": 15,
   "metadata": {},
   "outputs": [
    {
     "data": {
      "text/plain": [
       "610"
      ]
     },
     "execution_count": 15,
     "metadata": {},
     "output_type": "execute_result"
    }
   ],
   "source": [
    "len(nom)"
   ]
  }
 ],
 "metadata": {
  "kernelspec": {
   "display_name": "Python 3",
   "language": "python",
   "name": "python3"
  },
  "language_info": {
   "codemirror_mode": {
    "name": "ipython",
    "version": 3
   },
   "file_extension": ".py",
   "mimetype": "text/x-python",
   "name": "python",
   "nbconvert_exporter": "python",
   "pygments_lexer": "ipython3",
   "version": "3.11.3"
  },
  "orig_nbformat": 4
 },
 "nbformat": 4,
 "nbformat_minor": 2
}
