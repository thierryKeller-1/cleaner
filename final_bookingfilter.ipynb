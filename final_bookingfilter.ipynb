{
 "cells": [
  {
   "cell_type": "code",
   "execution_count": 1,
   "metadata": {},
   "outputs": [],
   "source": [
    "import pandas as pd \n",
    "import os\n",
    "from datetime import datetime, timedelta"
   ]
  },
  {
   "cell_type": "code",
   "execution_count": 2,
   "metadata": {},
   "outputs": [],
   "source": [
    "def remove_comma(dataframe:object) -> object:\n",
    "    index_name_with_comma = list(dataframe[dataframe['nom'].str.contains(',')].index)\n",
    "    index_typology_with_comma = list(dataframe[dataframe['typologie'].str.contains(',')].index)\n",
    "    Index_localite_with_comma = list(dataframe[dataframe['localite'].str.contains(',')].index)\n",
    "\n",
    "    for i in index_name_with_comma:\n",
    "        dataframe.loc[i, 'nom'] = dataframe.loc[i]['nom'].replace(',', '')\n",
    "    \n",
    "    for j in index_typology_with_comma:\n",
    "        dataframe.loc[j, 'typologie'] = dataframe.loc[j]['typologie'].replace(',', '')\n",
    "    \n",
    "    for k in Index_localite_with_comma:\n",
    "        dataframe.loc[k, 'localite'] = dataframe.loc[k]['localite'].replace(',', '')\n",
    "\n",
    "    return dataframe"
   ]
  },
  {
   "cell_type": "code",
   "execution_count": 3,
   "metadata": {},
   "outputs": [],
   "source": [
    "def merge_results(srcs, dest, name:str):\n",
    "    csv_merged = pd.read_csv(srcs, encoding='utf8')\n",
    "    csv_merged.sort_values(inplace=True, ascending = True, by=['Nb semaines', 'date_debut'])\n",
    "    csv_merged.dropna(inplace=True, subset=['typologie'])\n",
    "    csv_merged = remove_comma(csv_merged)\n",
    "    csv_merged.drop_duplicates(inplace=True ,subset=['date_debut', 'date_fin', 'prix_init', 'prix_actuel', 'typologie', 'nom'])\n",
    "    csv_merged.to_csv(f'{dest}/{name}.csv', index=False, encoding='utf8')\n"
   ]
  },
  {
   "cell_type": "code",
   "execution_count": 4,
   "metadata": {},
   "outputs": [],
   "source": [
    "merge_results(\"./booking_dest1.csv\", \".\", \"booking_1j_cleaned_20_05_2024.csv\")"
   ]
  }
 ],
 "metadata": {
  "kernelspec": {
   "display_name": "Python 3",
   "language": "python",
   "name": "python3"
  },
  "language_info": {
   "codemirror_mode": {
    "name": "ipython",
    "version": 3
   },
   "file_extension": ".py",
   "mimetype": "text/x-python",
   "name": "python",
   "nbconvert_exporter": "python",
   "pygments_lexer": "ipython3",
   "version": "3.11.3"
  },
  "orig_nbformat": 4
 },
 "nbformat": 4,
 "nbformat_minor": 2
}
