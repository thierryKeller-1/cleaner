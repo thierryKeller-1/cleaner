{
 "cells": [
  {
   "cell_type": "code",
   "execution_count": 33,
   "metadata": {},
   "outputs": [],
   "source": [
    "import pandas as pd"
   ]
  },
  {
   "cell_type": "code",
   "execution_count": 34,
   "metadata": {},
   "outputs": [],
   "source": [
    "preview = pd.read_csv('./booking_1j_cleaned_22_04_2024.csv')\n",
    "# new = pd.read_csv('./booking_dest1_new.csv')"
   ]
  },
  {
   "cell_type": "code",
   "execution_count": 24,
   "metadata": {},
   "outputs": [],
   "source": [
    "filters = pd.concat([new, preview])"
   ]
  },
  {
   "cell_type": "code",
   "execution_count": 25,
   "metadata": {},
   "outputs": [
    {
     "data": {
      "text/html": [
       "<div>\n",
       "<style scoped>\n",
       "    .dataframe tbody tr th:only-of-type {\n",
       "        vertical-align: middle;\n",
       "    }\n",
       "\n",
       "    .dataframe tbody tr th {\n",
       "        vertical-align: top;\n",
       "    }\n",
       "\n",
       "    .dataframe thead th {\n",
       "        text-align: right;\n",
       "    }\n",
       "</style>\n",
       "<table border=\"1\" class=\"dataframe\">\n",
       "  <thead>\n",
       "    <tr style=\"text-align: right;\">\n",
       "      <th></th>\n",
       "      <th>web-scraper-order</th>\n",
       "      <th>date_price</th>\n",
       "      <th>date_debut</th>\n",
       "      <th>date_fin</th>\n",
       "      <th>prix_init</th>\n",
       "      <th>prix_actuel</th>\n",
       "      <th>typologie</th>\n",
       "      <th>n_offre</th>\n",
       "      <th>nom</th>\n",
       "      <th>localite</th>\n",
       "      <th>date_debut-jour</th>\n",
       "      <th>Nb semaines</th>\n",
       "    </tr>\n",
       "  </thead>\n",
       "  <tbody>\n",
       "    <tr>\n",
       "      <th>0</th>\n",
       "      <td>1694605012-1001</td>\n",
       "      <td>29/04/2024</td>\n",
       "      <td>02/05/2024</td>\n",
       "      <td>03/05/2024</td>\n",
       "      <td>94</td>\n",
       "      <td>94</td>\n",
       "      <td>Chambre Double</td>\n",
       "      <td>NaN</td>\n",
       "      <td>Hôtel Maison Doron</td>\n",
       "      <td>Beaufort</td>\n",
       "      <td>NaN</td>\n",
       "      <td>18</td>\n",
       "    </tr>\n",
       "    <tr>\n",
       "      <th>1</th>\n",
       "      <td>1694605012-1002</td>\n",
       "      <td>29/04/2024</td>\n",
       "      <td>02/05/2024</td>\n",
       "      <td>03/05/2024</td>\n",
       "      <td>120</td>\n",
       "      <td>97</td>\n",
       "      <td>Chambre Double</td>\n",
       "      <td>NaN</td>\n",
       "      <td>Hôtel de la Roche</td>\n",
       "      <td>Beaufort</td>\n",
       "      <td>NaN</td>\n",
       "      <td>18</td>\n",
       "    </tr>\n",
       "    <tr>\n",
       "      <th>2</th>\n",
       "      <td>1694605012-1003</td>\n",
       "      <td>29/04/2024</td>\n",
       "      <td>02/05/2024</td>\n",
       "      <td>03/05/2024</td>\n",
       "      <td>143</td>\n",
       "      <td>143</td>\n",
       "      <td>Chambre Double ou Lits Jumeaux</td>\n",
       "      <td>NaN</td>\n",
       "      <td>Hôtel Les Ancolies à Arêches</td>\n",
       "      <td>Arêches</td>\n",
       "      <td>NaN</td>\n",
       "      <td>18</td>\n",
       "    </tr>\n",
       "    <tr>\n",
       "      <th>3</th>\n",
       "      <td>1694605012-1004</td>\n",
       "      <td>29/04/2024</td>\n",
       "      <td>02/05/2024</td>\n",
       "      <td>03/05/2024</td>\n",
       "      <td>117</td>\n",
       "      <td>117</td>\n",
       "      <td>Chambre Quadruple Standard</td>\n",
       "      <td>NaN</td>\n",
       "      <td>La Mollinière</td>\n",
       "      <td>Notre-Dame-de-Bellecombe</td>\n",
       "      <td>NaN</td>\n",
       "      <td>18</td>\n",
       "    </tr>\n",
       "    <tr>\n",
       "      <th>4</th>\n",
       "      <td>1694605012-1005</td>\n",
       "      <td>29/04/2024</td>\n",
       "      <td>02/05/2024</td>\n",
       "      <td>03/05/2024</td>\n",
       "      <td>138</td>\n",
       "      <td>138</td>\n",
       "      <td>Chambre Double Standard</td>\n",
       "      <td>NaN</td>\n",
       "      <td>Au Coin Du Feu</td>\n",
       "      <td>Megève</td>\n",
       "      <td>NaN</td>\n",
       "      <td>18</td>\n",
       "    </tr>\n",
       "  </tbody>\n",
       "</table>\n",
       "</div>"
      ],
      "text/plain": [
       "  web-scraper-order  date_price  date_debut    date_fin  prix_init  \\\n",
       "0   1694605012-1001  29/04/2024  02/05/2024  03/05/2024         94   \n",
       "1   1694605012-1002  29/04/2024  02/05/2024  03/05/2024        120   \n",
       "2   1694605012-1003  29/04/2024  02/05/2024  03/05/2024        143   \n",
       "3   1694605012-1004  29/04/2024  02/05/2024  03/05/2024        117   \n",
       "4   1694605012-1005  29/04/2024  02/05/2024  03/05/2024        138   \n",
       "\n",
       "   prix_actuel                       typologie  n_offre  \\\n",
       "0           94                  Chambre Double      NaN   \n",
       "1           97                  Chambre Double      NaN   \n",
       "2          143  Chambre Double ou Lits Jumeaux      NaN   \n",
       "3          117      Chambre Quadruple Standard      NaN   \n",
       "4          138         Chambre Double Standard      NaN   \n",
       "\n",
       "                            nom                  localite  date_debut-jour  \\\n",
       "0            Hôtel Maison Doron                  Beaufort              NaN   \n",
       "1             Hôtel de la Roche                  Beaufort              NaN   \n",
       "2  Hôtel Les Ancolies à Arêches                   Arêches              NaN   \n",
       "3                 La Mollinière  Notre-Dame-de-Bellecombe              NaN   \n",
       "4                Au Coin Du Feu                    Megève              NaN   \n",
       "\n",
       "   Nb semaines  \n",
       "0           18  \n",
       "1           18  \n",
       "2           18  \n",
       "3           18  \n",
       "4           18  "
      ]
     },
     "execution_count": 25,
     "metadata": {},
     "output_type": "execute_result"
    }
   ],
   "source": [
    "filters.head()"
   ]
  },
  {
   "cell_type": "code",
   "execution_count": 15,
   "metadata": {},
   "outputs": [
    {
     "data": {
      "text/plain": [
       "Index(['web-scraper-order', 'date_price', 'date_debut', 'date_fin',\n",
       "       'prix_init', 'prix_actuel', 'typologie', 'n_offre', 'nom', 'localite',\n",
       "       'date_debut-jour', 'Nb semaines'],\n",
       "      dtype='object')"
      ]
     },
     "execution_count": 15,
     "metadata": {},
     "output_type": "execute_result"
    }
   ],
   "source": [
    "filters.columns"
   ]
  },
  {
   "cell_type": "code",
   "execution_count": 35,
   "metadata": {},
   "outputs": [],
   "source": [
    "preview['date_price'] = '29/04/2024'"
   ]
  },
  {
   "cell_type": "code",
   "execution_count": 37,
   "metadata": {},
   "outputs": [
    {
     "data": {
      "text/plain": [
       "270108"
      ]
     },
     "execution_count": 37,
     "metadata": {},
     "output_type": "execute_result"
    }
   ],
   "source": [
    "len(preview)"
   ]
  },
  {
   "cell_type": "code",
   "execution_count": 38,
   "metadata": {},
   "outputs": [],
   "source": [
    "diff = preview.drop_duplicates(subset=['date_debut', 'date_fin', 'prix_init', 'prix_actuel', 'typologie', 'nom', 'Nb semaines'], keep=False)"
   ]
  },
  {
   "cell_type": "code",
   "execution_count": 39,
   "metadata": {},
   "outputs": [
    {
     "data": {
      "text/plain": [
       "270108"
      ]
     },
     "execution_count": 39,
     "metadata": {},
     "output_type": "execute_result"
    }
   ],
   "source": [
    "len(diff)"
   ]
  },
  {
   "cell_type": "code",
   "execution_count": 40,
   "metadata": {},
   "outputs": [],
   "source": [
    "diff.to_csv('difference.csv', index=False)"
   ]
  },
  {
   "cell_type": "code",
   "execution_count": 18,
   "metadata": {},
   "outputs": [],
   "source": [
    "filters.drop_duplicates(subset=['date_debut', 'date_fin', 'prix_init', 'prix_actuel', 'typologie', 'nom', 'Nb semaines'], keep='first', inplace=True)"
   ]
  },
  {
   "cell_type": "code",
   "execution_count": 19,
   "metadata": {},
   "outputs": [
    {
     "data": {
      "text/plain": [
       "312828"
      ]
     },
     "execution_count": 19,
     "metadata": {},
     "output_type": "execute_result"
    }
   ],
   "source": [
    "len(filters)"
   ]
  },
  {
   "cell_type": "code",
   "execution_count": 20,
   "metadata": {},
   "outputs": [
    {
     "data": {
      "text/html": [
       "<div>\n",
       "<style scoped>\n",
       "    .dataframe tbody tr th:only-of-type {\n",
       "        vertical-align: middle;\n",
       "    }\n",
       "\n",
       "    .dataframe tbody tr th {\n",
       "        vertical-align: top;\n",
       "    }\n",
       "\n",
       "    .dataframe thead th {\n",
       "        text-align: right;\n",
       "    }\n",
       "</style>\n",
       "<table border=\"1\" class=\"dataframe\">\n",
       "  <thead>\n",
       "    <tr style=\"text-align: right;\">\n",
       "      <th></th>\n",
       "      <th>web-scraper-order</th>\n",
       "      <th>date_price</th>\n",
       "      <th>date_debut</th>\n",
       "      <th>date_fin</th>\n",
       "      <th>prix_init</th>\n",
       "      <th>prix_actuel</th>\n",
       "      <th>typologie</th>\n",
       "      <th>n_offre</th>\n",
       "      <th>nom</th>\n",
       "      <th>localite</th>\n",
       "      <th>date_debut-jour</th>\n",
       "      <th>Nb semaines</th>\n",
       "    </tr>\n",
       "  </thead>\n",
       "  <tbody>\n",
       "    <tr>\n",
       "      <th>0</th>\n",
       "      <td>1694605012-1001</td>\n",
       "      <td>29/04/2024</td>\n",
       "      <td>02/05/2024</td>\n",
       "      <td>03/05/2024</td>\n",
       "      <td>94</td>\n",
       "      <td>94</td>\n",
       "      <td>Chambre Double</td>\n",
       "      <td>NaN</td>\n",
       "      <td>Hôtel Maison Doron</td>\n",
       "      <td>Beaufort</td>\n",
       "      <td>NaN</td>\n",
       "      <td>18</td>\n",
       "    </tr>\n",
       "    <tr>\n",
       "      <th>1</th>\n",
       "      <td>1694605012-1002</td>\n",
       "      <td>29/04/2024</td>\n",
       "      <td>02/05/2024</td>\n",
       "      <td>03/05/2024</td>\n",
       "      <td>120</td>\n",
       "      <td>97</td>\n",
       "      <td>Chambre Double</td>\n",
       "      <td>NaN</td>\n",
       "      <td>Hôtel de la Roche</td>\n",
       "      <td>Beaufort</td>\n",
       "      <td>NaN</td>\n",
       "      <td>18</td>\n",
       "    </tr>\n",
       "    <tr>\n",
       "      <th>2</th>\n",
       "      <td>1694605012-1003</td>\n",
       "      <td>29/04/2024</td>\n",
       "      <td>02/05/2024</td>\n",
       "      <td>03/05/2024</td>\n",
       "      <td>143</td>\n",
       "      <td>143</td>\n",
       "      <td>Chambre Double ou Lits Jumeaux</td>\n",
       "      <td>NaN</td>\n",
       "      <td>Hôtel Les Ancolies à Arêches</td>\n",
       "      <td>Arêches</td>\n",
       "      <td>NaN</td>\n",
       "      <td>18</td>\n",
       "    </tr>\n",
       "    <tr>\n",
       "      <th>3</th>\n",
       "      <td>1694605012-1004</td>\n",
       "      <td>29/04/2024</td>\n",
       "      <td>02/05/2024</td>\n",
       "      <td>03/05/2024</td>\n",
       "      <td>117</td>\n",
       "      <td>117</td>\n",
       "      <td>Chambre Quadruple Standard</td>\n",
       "      <td>NaN</td>\n",
       "      <td>La Mollinière</td>\n",
       "      <td>Notre-Dame-de-Bellecombe</td>\n",
       "      <td>NaN</td>\n",
       "      <td>18</td>\n",
       "    </tr>\n",
       "    <tr>\n",
       "      <th>4</th>\n",
       "      <td>1694605012-1005</td>\n",
       "      <td>29/04/2024</td>\n",
       "      <td>02/05/2024</td>\n",
       "      <td>03/05/2024</td>\n",
       "      <td>138</td>\n",
       "      <td>138</td>\n",
       "      <td>Chambre Double Standard</td>\n",
       "      <td>NaN</td>\n",
       "      <td>Au Coin Du Feu</td>\n",
       "      <td>Megève</td>\n",
       "      <td>NaN</td>\n",
       "      <td>18</td>\n",
       "    </tr>\n",
       "  </tbody>\n",
       "</table>\n",
       "</div>"
      ],
      "text/plain": [
       "  web-scraper-order  date_price  date_debut    date_fin  prix_init  \\\n",
       "0   1694605012-1001  29/04/2024  02/05/2024  03/05/2024         94   \n",
       "1   1694605012-1002  29/04/2024  02/05/2024  03/05/2024        120   \n",
       "2   1694605012-1003  29/04/2024  02/05/2024  03/05/2024        143   \n",
       "3   1694605012-1004  29/04/2024  02/05/2024  03/05/2024        117   \n",
       "4   1694605012-1005  29/04/2024  02/05/2024  03/05/2024        138   \n",
       "\n",
       "   prix_actuel                       typologie  n_offre  \\\n",
       "0           94                  Chambre Double      NaN   \n",
       "1           97                  Chambre Double      NaN   \n",
       "2          143  Chambre Double ou Lits Jumeaux      NaN   \n",
       "3          117      Chambre Quadruple Standard      NaN   \n",
       "4          138         Chambre Double Standard      NaN   \n",
       "\n",
       "                            nom                  localite  date_debut-jour  \\\n",
       "0            Hôtel Maison Doron                  Beaufort              NaN   \n",
       "1             Hôtel de la Roche                  Beaufort              NaN   \n",
       "2  Hôtel Les Ancolies à Arêches                   Arêches              NaN   \n",
       "3                 La Mollinière  Notre-Dame-de-Bellecombe              NaN   \n",
       "4                Au Coin Du Feu                    Megève              NaN   \n",
       "\n",
       "   Nb semaines  \n",
       "0           18  \n",
       "1           18  \n",
       "2           18  \n",
       "3           18  \n",
       "4           18  "
      ]
     },
     "execution_count": 20,
     "metadata": {},
     "output_type": "execute_result"
    }
   ],
   "source": [
    "filters.head()"
   ]
  },
  {
   "cell_type": "code",
   "execution_count": 11,
   "metadata": {},
   "outputs": [],
   "source": [
    "nb = filters['Nb semaines'].to_list()"
   ]
  },
  {
   "cell_type": "code",
   "execution_count": 12,
   "metadata": {},
   "outputs": [],
   "source": [
    "nb = [int(x) for x in nb]\n"
   ]
  },
  {
   "cell_type": "code",
   "execution_count": 13,
   "metadata": {},
   "outputs": [],
   "source": [
    "filters['Nb semaines'] = nb"
   ]
  },
  {
   "cell_type": "code",
   "execution_count": 21,
   "metadata": {},
   "outputs": [],
   "source": [
    "filters.to_csv('booking_1j_cleaned_29_04_2024_done.csv', index=False)"
   ]
  }
 ],
 "metadata": {
  "kernelspec": {
   "display_name": "venv",
   "language": "python",
   "name": "python3"
  },
  "language_info": {
   "codemirror_mode": {
    "name": "ipython",
    "version": 3
   },
   "file_extension": ".py",
   "mimetype": "text/x-python",
   "name": "python",
   "nbconvert_exporter": "python",
   "pygments_lexer": "ipython3",
   "version": "3.11.3"
  }
 },
 "nbformat": 4,
 "nbformat_minor": 2
}
