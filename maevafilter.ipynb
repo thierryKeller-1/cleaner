{
 "cells": [
  {
   "cell_type": "code",
   "execution_count": 3,
   "metadata": {},
   "outputs": [],
   "source": [
    "import pandas as pd \n",
    "import os\n",
    "from datetime import datetime, timedelta"
   ]
  },
  {
   "cell_type": "code",
   "execution_count": 2,
   "metadata": {},
   "outputs": [
    {
     "name": "stdout",
     "output_type": "stream",
     "text": [
      "maeva1.csv\n",
      "maeva2.csv\n",
      "maeva3.csv\n",
      "maeva4.csv\n"
     ]
    },
    {
     "data": {
      "text/plain": [
       "4"
      ]
     },
     "execution_count": 2,
     "metadata": {},
     "output_type": "execute_result"
    }
   ],
   "source": [
    "all_files = os.listdir()    \n",
    "csv_files = list(filter(lambda f: f.endswith('.csv'), all_files))\n",
    "dfs = []\n",
    "for csv_file in csv_files:\n",
    "    print(csv_file)\n",
    "    dfs.append(pd.read_csv(csv_file, encoding='utf-8'))\n",
    "\n",
    "len(dfs)"
   ]
  },
  {
   "cell_type": "code",
   "execution_count": 3,
   "metadata": {},
   "outputs": [],
   "source": [
    "df = pd.concat(dfs)"
   ]
  },
  {
   "cell_type": "code",
   "execution_count": 4,
   "metadata": {},
   "outputs": [],
   "source": [
    "df.drop(columns=['url'], inplace=True)"
   ]
  },
  {
   "cell_type": "code",
   "execution_count": 5,
   "metadata": {},
   "outputs": [],
   "source": [
    "df.to_csv(\"maeva_all2.csv\", index=False)"
   ]
  },
  {
   "cell_type": "code",
   "execution_count": 6,
   "metadata": {},
   "outputs": [],
   "source": [
    "def clean_maeva(src, dest):\n",
    "    import csv\n",
    "    csv_source = pd.read_csv(src, encoding='utf-8', keep_default_na=False, low_memory=False)\n",
    "    csv_source = csv_source.drop_duplicates(subset=['date_price', 'date_debut', 'date_fin', 'prix_init', 'prix_actuel', 'typologie', 'n_offre', 'nom'])\n",
    "    csv_source.sort_values(inplace=True, ascending = True, by=['Nb semaines', 'date_debut'])\n",
    "    # csv_source.dropna(inplace=True, subset=['cle_station'])\n",
    "    csv_source.to_csv(dest, index=False, sep=';')\n"
   ]
  },
  {
   "cell_type": "code",
   "execution_count": 7,
   "metadata": {},
   "outputs": [],
   "source": [
    "clean_maeva('./maeva_all.csv', 'maeva_cleaned_08_03_2024.csv')"
   ]
  }
 ],
 "metadata": {
  "kernelspec": {
   "display_name": "Python 3",
   "language": "python",
   "name": "python3"
  },
  "language_info": {
   "codemirror_mode": {
    "name": "ipython",
    "version": 3
   },
   "file_extension": ".py",
   "mimetype": "text/x-python",
   "name": "python",
   "nbconvert_exporter": "python",
   "pygments_lexer": "ipython3",
   "version": "3.11.3"
  },
  "orig_nbformat": 4
 },
 "nbformat": 4,
 "nbformat_minor": 2
}
