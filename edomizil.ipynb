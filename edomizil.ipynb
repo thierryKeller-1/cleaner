{
 "cells": [
  {
   "cell_type": "code",
   "execution_count": 1,
   "metadata": {},
   "outputs": [],
   "source": [
    "import pandas as pd \n",
    "import os\n",
    "import csv\n",
    "from datetime import datetime, timedelta"
   ]
  },
  {
   "cell_type": "code",
   "execution_count": 2,
   "metadata": {},
   "outputs": [
    {
     "data": {
      "text/plain": [
       "4"
      ]
     },
     "execution_count": 2,
     "metadata": {},
     "output_type": "execute_result"
    }
   ],
   "source": [
    "all_files = os.listdir()    \n",
    "csv_files = list(filter(lambda f: f.endswith('.csv'), all_files))\n",
    "dfs = []\n",
    "\n",
    "for csv_file in csv_files:\n",
    "    dfs.append(pd.read_csv(csv_file))\n",
    "\n",
    "len(dfs)"
   ]
  },
  {
   "cell_type": "code",
   "execution_count": 3,
   "metadata": {},
   "outputs": [],
   "source": [
    "df = pd.concat(dfs)\n",
    "# df.to_csv(\"edomizil_all.csv\", index=False)"
   ]
  },
  {
   "cell_type": "code",
   "execution_count": 4,
   "metadata": {},
   "outputs": [
    {
     "data": {
      "text/plain": [
       "18009"
      ]
     },
     "execution_count": 4,
     "metadata": {},
     "output_type": "execute_result"
    }
   ],
   "source": [
    "len(df)"
   ]
  },
  {
   "cell_type": "code",
   "execution_count": 5,
   "metadata": {},
   "outputs": [
    {
     "data": {
      "text/html": [
       "<div>\n",
       "<style scoped>\n",
       "    .dataframe tbody tr th:only-of-type {\n",
       "        vertical-align: middle;\n",
       "    }\n",
       "\n",
       "    .dataframe tbody tr th {\n",
       "        vertical-align: top;\n",
       "    }\n",
       "\n",
       "    .dataframe thead th {\n",
       "        text-align: right;\n",
       "    }\n",
       "</style>\n",
       "<table border=\"1\" class=\"dataframe\">\n",
       "  <thead>\n",
       "    <tr style=\"text-align: right;\">\n",
       "      <th></th>\n",
       "      <th>date_scrap</th>\n",
       "      <th>date_debut</th>\n",
       "      <th>date_fin</th>\n",
       "      <th>price</th>\n",
       "      <th>identifiant</th>\n",
       "      <th>typologie</th>\n",
       "      <th>nom</th>\n",
       "    </tr>\n",
       "  </thead>\n",
       "  <tbody>\n",
       "    <tr>\n",
       "      <th>0</th>\n",
       "      <td>29/04/2024</td>\n",
       "      <td>18/05/2024</td>\n",
       "      <td>25/05/2024</td>\n",
       "      <td>407.39</td>\n",
       "      <td>HYCZGU9</td>\n",
       "      <td>75 m² Appartement ∙ 1 chambre ∙ 7 personnes</td>\n",
       "      <td>Loèche-les-Bains - Valais</td>\n",
       "    </tr>\n",
       "    <tr>\n",
       "      <th>1</th>\n",
       "      <td>29/04/2024</td>\n",
       "      <td>25/05/2024</td>\n",
       "      <td>01/06/2024</td>\n",
       "      <td>407.39</td>\n",
       "      <td>HYCZGU9</td>\n",
       "      <td>75 m² Appartement ∙ 1 chambre ∙ 7 personnes</td>\n",
       "      <td>Loèche-les-Bains - Valais</td>\n",
       "    </tr>\n",
       "    <tr>\n",
       "      <th>2</th>\n",
       "      <td>29/04/2024</td>\n",
       "      <td>01/06/2024</td>\n",
       "      <td>08/06/2024</td>\n",
       "      <td>407.39</td>\n",
       "      <td>HYCZGU9</td>\n",
       "      <td>75 m² Appartement ∙ 1 chambre ∙ 7 personnes</td>\n",
       "      <td>Loèche-les-Bains - Valais</td>\n",
       "    </tr>\n",
       "    <tr>\n",
       "      <th>3</th>\n",
       "      <td>29/04/2024</td>\n",
       "      <td>08/06/2024</td>\n",
       "      <td>15/06/2024</td>\n",
       "      <td>407.39</td>\n",
       "      <td>HYCZGU9</td>\n",
       "      <td>75 m² Appartement ∙ 1 chambre ∙ 7 personnes</td>\n",
       "      <td>Loèche-les-Bains - Valais</td>\n",
       "    </tr>\n",
       "    <tr>\n",
       "      <th>4</th>\n",
       "      <td>29/04/2024</td>\n",
       "      <td>29/06/2024</td>\n",
       "      <td>06/07/2024</td>\n",
       "      <td>481.09</td>\n",
       "      <td>HYCZGU9</td>\n",
       "      <td>75 m² Appartement ∙ 1 chambre ∙ 7 personnes</td>\n",
       "      <td>Loèche-les-Bains - Valais</td>\n",
       "    </tr>\n",
       "  </tbody>\n",
       "</table>\n",
       "</div>"
      ],
      "text/plain": [
       "   date_scrap  date_debut    date_fin   price identifiant  \\\n",
       "0  29/04/2024  18/05/2024  25/05/2024  407.39     HYCZGU9   \n",
       "1  29/04/2024  25/05/2024  01/06/2024  407.39     HYCZGU9   \n",
       "2  29/04/2024  01/06/2024  08/06/2024  407.39     HYCZGU9   \n",
       "3  29/04/2024  08/06/2024  15/06/2024  407.39     HYCZGU9   \n",
       "4  29/04/2024  29/06/2024  06/07/2024  481.09     HYCZGU9   \n",
       "\n",
       "                                     typologie                        nom  \n",
       "0  75 m² Appartement ∙ 1 chambre ∙ 7 personnes  Loèche-les-Bains - Valais  \n",
       "1  75 m² Appartement ∙ 1 chambre ∙ 7 personnes  Loèche-les-Bains - Valais  \n",
       "2  75 m² Appartement ∙ 1 chambre ∙ 7 personnes  Loèche-les-Bains - Valais  \n",
       "3  75 m² Appartement ∙ 1 chambre ∙ 7 personnes  Loèche-les-Bains - Valais  \n",
       "4  75 m² Appartement ∙ 1 chambre ∙ 7 personnes  Loèche-les-Bains - Valais  "
      ]
     },
     "execution_count": 5,
     "metadata": {},
     "output_type": "execute_result"
    }
   ],
   "source": [
    "df.head()"
   ]
  },
  {
   "cell_type": "code",
   "execution_count": 6,
   "metadata": {},
   "outputs": [
    {
     "data": {
      "text/plain": [
       "Index(['date_scrap', 'date_debut', 'date_fin', 'price', 'identifiant',\n",
       "       'typologie', 'nom'],\n",
       "      dtype='object')"
      ]
     },
     "execution_count": 6,
     "metadata": {},
     "output_type": "execute_result"
    }
   ],
   "source": [
    "df.columns"
   ]
  },
  {
   "cell_type": "code",
   "execution_count": 7,
   "metadata": {},
   "outputs": [
    {
     "data": {
      "text/plain": [
       "16556"
      ]
     },
     "execution_count": 7,
     "metadata": {},
     "output_type": "execute_result"
    }
   ],
   "source": [
    "df.drop_duplicates(inplace=True, subset=['date_debut', 'date_fin', 'price', 'identifiant',\n",
    "       'typologie', 'nom'])\n",
    "len(df)"
   ]
  },
  {
   "cell_type": "code",
   "execution_count": 8,
   "metadata": {},
   "outputs": [],
   "source": [
    "df.to_csv('edomizil_cleaned_29_04_2024.csv', index=False)"
   ]
  }
 ],
 "metadata": {
  "kernelspec": {
   "display_name": "Python 3",
   "language": "python",
   "name": "python3"
  },
  "language_info": {
   "codemirror_mode": {
    "name": "ipython",
    "version": 3
   },
   "file_extension": ".py",
   "mimetype": "text/x-python",
   "name": "python",
   "nbconvert_exporter": "python",
   "pygments_lexer": "ipython3",
   "version": "3.11.3"
  },
  "orig_nbformat": 4
 },
 "nbformat": 4,
 "nbformat_minor": 2
}
